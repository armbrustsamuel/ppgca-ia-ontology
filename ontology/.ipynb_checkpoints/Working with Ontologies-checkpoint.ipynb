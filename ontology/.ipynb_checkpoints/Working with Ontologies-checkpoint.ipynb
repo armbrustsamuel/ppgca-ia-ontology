{
 "cells": [
  {
   "cell_type": "markdown",
   "metadata": {},
   "source": [
    "# Ontologies\n",
    "\n",
    "To activate this environment\n",
    "\n",
    "```\n",
    "& pip install owlready2\n",
    "\n",
    "& conda activate ontology\n",
    "```\n",
    "\n",
    "## Ontology reference\n",
    "https://www.geeksforgeeks.org/introduction-to-ontologies/\n",
    "\n",
    "Reference for web semantic: \n",
    "https://github.com/opendatasoft/semantic-bot\n",
    "\n",
    "Code reference article: \n",
    "https://www.archives-ouvertes.fr/hal-01592746/document\n",
    "\n",
    "Cheat Sheet\n",
    "https://readthedocs.org/projects/owlready2/downloads/pdf/latest/\n",
    "\n",
    "\n",
    "`Note`: Owlready2currentlywritesthefollowingfileformat:“rdf/xml”,“ntriples”.\n",
    "NTriples is a very simple format and is natively supported by Owlready2.\n",
    "RDF/XML is the most common format; it is also natively supported by Owlready2 (since version 0.2). OWL/XML is not yet supported for writing."
   ]
  },
  {
   "cell_type": "markdown",
   "metadata": {},
   "source": [
    "# Creating a knowledge base for Drugs"
   ]
  },
  {
   "cell_type": "code",
   "execution_count": 5,
   "metadata": {},
   "outputs": [
    {
     "name": "stderr",
     "output_type": "stream",
     "text": [
      "* Owlready2 * Warning: optimized Cython parser module 'owlready2_optimized' is not available, defaulting to slower Python implementation\n",
      "* Owlready2 * Running Pellet...\n",
      "    java -Xmx2000M -cp /Users/samuel/anaconda3/envs/ontology/lib/python3.6/site-packages/owlready2/pellet/httpclient-4.2.3.jar:/Users/samuel/anaconda3/envs/ontology/lib/python3.6/site-packages/owlready2/pellet/aterm-java-1.6.jar:/Users/samuel/anaconda3/envs/ontology/lib/python3.6/site-packages/owlready2/pellet/xercesImpl-2.10.0.jar:/Users/samuel/anaconda3/envs/ontology/lib/python3.6/site-packages/owlready2/pellet/slf4j-api-1.6.4.jar:/Users/samuel/anaconda3/envs/ontology/lib/python3.6/site-packages/owlready2/pellet/jena-tdb-0.10.0.jar:/Users/samuel/anaconda3/envs/ontology/lib/python3.6/site-packages/owlready2/pellet/jena-iri-0.9.5.jar:/Users/samuel/anaconda3/envs/ontology/lib/python3.6/site-packages/owlready2/pellet/owlapi-distribution-3.4.3-bin.jar:/Users/samuel/anaconda3/envs/ontology/lib/python3.6/site-packages/owlready2/pellet/log4j-1.2.16.jar:/Users/samuel/anaconda3/envs/ontology/lib/python3.6/site-packages/owlready2/pellet/jcl-over-slf4j-1.6.4.jar:/Users/samuel/anaconda3/envs/ontology/lib/python3.6/site-packages/owlready2/pellet/slf4j-log4j12-1.6.4.jar:/Users/samuel/anaconda3/envs/ontology/lib/python3.6/site-packages/owlready2/pellet/antlr-runtime-3.2.jar:/Users/samuel/anaconda3/envs/ontology/lib/python3.6/site-packages/owlready2/pellet/pellet-2.3.1.jar:/Users/samuel/anaconda3/envs/ontology/lib/python3.6/site-packages/owlready2/pellet/jgrapht-jdk1.5.jar:/Users/samuel/anaconda3/envs/ontology/lib/python3.6/site-packages/owlready2/pellet/commons-codec-1.6.jar:/Users/samuel/anaconda3/envs/ontology/lib/python3.6/site-packages/owlready2/pellet/antlr-3.2.jar:/Users/samuel/anaconda3/envs/ontology/lib/python3.6/site-packages/owlready2/pellet/xml-apis-1.4.01.jar:/Users/samuel/anaconda3/envs/ontology/lib/python3.6/site-packages/owlready2/pellet/httpcore-4.2.2.jar:/Users/samuel/anaconda3/envs/ontology/lib/python3.6/site-packages/owlready2/pellet/jena-arq-2.10.0.jar:/Users/samuel/anaconda3/envs/ontology/lib/python3.6/site-packages/owlready2/pellet/jena-core-2.10.0.jar pellet.Pellet realize --loader Jena --input-format N-Triples --ignore-imports /var/folders/jn/0tqg6j317392dsllf80cqy6c0000gn/T/tmp_vcll4hk\n"
     ]
    },
    {
     "name": "stdout",
     "output_type": "stream",
     "text": [
      "drug2 new Classes: drug_db.DrugAssociation\n",
      "I took a drug with a single active principle\n",
      "I took a drug with 2 active principles\n",
      "I took a placebo\n",
      "I took a controlled drug cloroquina\n",
      "drug_db.med1\n",
      "drug_db.med2\n",
      "drug_db.med3\n",
      "drug_db.cloroquina\n"
     ]
    },
    {
     "name": "stderr",
     "output_type": "stream",
     "text": [
      "* Owlready2 * Pellet took 3.712151050567627 seconds\n",
      "* Owlready * Reparenting drug_db.has_name: {owl.DatatypeProperty, owl.FunctionalProperty} => {owl.Thing, owl.FunctionalProperty}\n",
      "* Owlready * Reparenting drug_db.is_controlled_drug: {owl.DatatypeProperty, owl.FunctionalProperty} => {owl.Thing, owl.FunctionalProperty}\n",
      "* Owlready * Reparenting drug_db.has_controlled_drug: {owl.ObjectProperty} => {owl.Thing}\n",
      "* Owlready * Reparenting drug_db.has_for_active_principle: {owl.ObjectProperty} => {owl.Thing}\n",
      "* Owlready * Reparenting drug_db.med2: {drug_db.Drug} => {drug_db.DrugAssociation}\n",
      "* Owlready * Reparenting drug_db.med3: {drug_db.Drug} => {drug_db.Placebo}\n",
      "* Owlready * Reparenting drug_db.ControlledDrug: {drug_db.Drug} => {drug_db.Placebo}\n",
      "* Owlready * Reparenting drug_db.cloroquina: {drug_db.Drug} => {drug_db.ControlledDrug}\n",
      "* Owlready * Reparenting drug_db.med1: {drug_db.Drug} => {drug_db.SingleActivePrincipleDrug}\n",
      "* Owlready * (NB: only changes on entities loaded in Python are shown, other changes are done but not listed)\n"
     ]
    },
    {
     "data": {
      "text/plain": [
       "{drug_db.is_controlled_drug}"
      ]
     },
     "execution_count": 5,
     "metadata": {},
     "output_type": "execute_result"
    }
   ],
   "source": [
    "from owlready2 import *\n",
    "\n",
    "onto_path.append(\"/Users/samuel/Documents/Mestrado/# Inteligência Artificial - Patricia/ontology/repository\")\n",
    "onto = get_ontology(\"/drug_db.owl\")\n",
    "\n",
    "with onto:\n",
    "    class Drug(Thing):\n",
    "        def take(self): print(\"I took a drug\")\n",
    "\n",
    "    class ActivePrinciple(Thing):\n",
    "        pass\n",
    "    \n",
    "    class Controlled(Thing):\n",
    "        pass\n",
    "    \n",
    "    class has_name(Drug >> str, FunctionalProperty):\n",
    "        python_name = \"name\"\n",
    "\n",
    "    class has_for_active_principle(Drug >> ActivePrinciple):\n",
    "        python_name = \"active_principles\"\n",
    "     \n",
    "    class is_controlled_drug(Drug >> bool, FunctionalProperty):\n",
    "        python_name = \"is_controlled\"   \n",
    "        \n",
    "    class has_controlled_drug(Drug >> Controlled):\n",
    "        python_name = \"criteria\"   \n",
    "\n",
    "    class Placebo(Drug):\n",
    "        equivalent_to = [Drug & Not(has_for_active_principle.some(ActivePrinciple))]\n",
    "        def take(self): print(\"I took a placebo\")\n",
    "\n",
    "    class SingleActivePrincipleDrug(Drug):\n",
    "        equivalent_to = [Drug & has_for_active_principle.exactly(1, ActivePrinciple)]\n",
    "        def take(self): print(\"I took a drug with a single active principle\")\n",
    "\n",
    "    class DrugAssociation(Drug):\n",
    "        equivalent_to = [Drug & has_for_active_principle.min(2, ActivePrinciple)]\n",
    "        def take(self): print(\"I took a drug with %s active principles\" % len(self.active_principles))\n",
    "          \n",
    "    class ControlledDrug(Drug):\n",
    "        equivalent_to = [Drug & is_controlled_drug.value(True) ]\n",
    "        def take(self): \n",
    "            if has_controlled_drug.value(self.name):\n",
    "                print(\"I took a controlled drug \"+self.name)  \n",
    "            else:\n",
    "                print(\"I took a not controlled drug \"+self.name)  \n",
    "\n",
    "acetaminophen   = ActivePrinciple(\"acetaminophen\")\n",
    "amoxicillin     = ActivePrinciple(\"amoxicillin\")\n",
    "clavulanic_acid = ActivePrinciple(\"clavulanic_acid\")\n",
    "\n",
    "# controlled_criteria = Controlled(\"cloroquina\") # didnt work\n",
    "\n",
    "AllDifferent([acetaminophen, amoxicillin, clavulanic_acid])\n",
    "\n",
    "drug1 = Drug(name=\"med1\", active_principles = [acetaminophen])\n",
    "drug2 = Drug(name=\"med2\", active_principles = [amoxicillin, clavulanic_acid])\n",
    "drug3 = Drug(name=\"med3\", active_principles = [])\n",
    "drug4 = Drug(name=\"cloroquina\", is_controlled = True, active_principles = [])\n",
    "\n",
    "close_world(Drug)\n",
    "\n",
    "sync_reasoner_pellet()\n",
    "\n",
    "onto.save(file=\"/Users/samuel/Documents/Mestrado/# Inteligência Artificial - Patricia/ontology/repository/drug_db.owl\")\n",
    "\n",
    "print(\"drug2 new Classes:\", drug2.__class__)\n",
    "\n",
    "drug1.take()\n",
    "\n",
    "drug2.take()\n",
    "\n",
    "drug3.take()\n",
    "\n",
    "drug4.take()\n",
    "\n",
    "for i in Drug.instances(): \n",
    "    print(i)\n",
    "    \n",
    "onto.cloroquina.get_properties()\n"
   ]
  },
  {
   "cell_type": "code",
   "execution_count": 12,
   "metadata": {},
   "outputs": [
    {
     "data": {
      "text/plain": [
       "[drug_db.Drug,\n",
       " drug_db.ActivePrinciple,\n",
       " drug_db.Controlled,\n",
       " drug_db.Placebo,\n",
       " drug_db.SingleActivePrincipleDrug,\n",
       " drug_db.DrugAssociation,\n",
       " drug_db.ControlledDrug]"
      ]
     },
     "execution_count": 12,
     "metadata": {},
     "output_type": "execute_result"
    }
   ],
   "source": [
    "# print(onto.Drug)\n",
    "# onto.classes()\n",
    "list(onto.classes())"
   ]
  },
  {
   "cell_type": "code",
   "execution_count": 32,
   "metadata": {},
   "outputs": [
    {
     "name": "stdout",
     "output_type": "stream",
     "text": [
      "[onto.cloroquina, drug_db.cloroquina]\n",
      "onto.cloroquina\n"
     ]
    }
   ],
   "source": [
    "# Search in the elements\n",
    "print(onto.search(iri = \"*cloroquina\"))\n",
    "# --> onto.cloroquina, drug_db.cloroquina]\n",
    "\n",
    "print(onto.search_one(iri = \"*cloroquina\"))\n",
    "# --> onto.cloroquina = found only one! "
   ]
  },
  {
   "cell_type": "code",
   "execution_count": 24,
   "metadata": {},
   "outputs": [
    {
     "data": {
      "text/plain": [
       "[drug_db.Drug, drug_db.drug1, drug_db.drug2, drug_db.drug3, drug_db.cloroquina, drug_db.med1, drug_db.med2, drug_db.med3, drug_db.Placebo, drug_db.SingleActivePrincipleDrug, drug_db.DrugAssociation, drug_db.ControlledDrug]"
      ]
     },
     "execution_count": 24,
     "metadata": {},
     "output_type": "execute_result"
    }
   ],
   "source": [
    "onto.search(is_a = onto.Drug)\n",
    "\n",
    "# For more complex queries, SQPARQL can be used with RDFlib (see Worlds)."
   ]
  },
  {
   "cell_type": "code",
   "execution_count": 37,
   "metadata": {},
   "outputs": [
    {
     "name": "stdout",
     "output_type": "stream",
     "text": [
      "/drug_db.owl#Drug\n",
      "{drug_db.Drug, drug_db.DrugAssociation, owl.Thing}\n",
      "<generator object EntityClass.subclasses at 0x1133b8518>\n",
      "{drug_db.has_for_active_principle}\n"
     ]
    }
   ],
   "source": [
    "# print(onto.metadata)\n",
    "print(Drug.iri)\n",
    "# --> /drug_db.owl#Drug\n",
    "\n",
    "print(DrugAssociation.ancestors())\n",
    "\n",
    "print(DrugAssociation.subclasses())\n",
    "\n",
    "# for i in Drug.instances():\n",
    "#     print(i)\n",
    "\n",
    "assert Drug(\"my_drug\") is Drug(\"my_drug\")\n",
    "\n",
    "\n",
    "print(onto.med1.get_properties())"
   ]
  },
  {
   "cell_type": "code",
   "execution_count": 45,
   "metadata": {},
   "outputs": [
    {
     "name": "stdout",
     "output_type": "stream",
     "text": [
      ".is_controlled == True\n"
     ]
    },
    {
     "data": {
      "text/plain": [
       "<generator object Thing.get_inverse_properties at 0x114bfc830>"
      ]
     },
     "execution_count": 45,
     "metadata": {},
     "output_type": "execute_result"
    }
   ],
   "source": [
    "# listing all the properties\n",
    "for prop in onto.cloroquina.get_properties():\n",
    "    for value in prop[onto.cloroquina]:\n",
    "        print(\".%s == %s\" % (prop.python_name, value))\n",
    "\n",
    "onto.cloroquina.get_inverse_properties()\n",
    "\n",
    "\n",
    "# Destroying entities\n",
    "\n",
    "# destroy_entity(<entity>)\n",
    "\n",
    "\n",
    "Ilimbed14"
   ]
  },
  {
   "cell_type": "markdown",
   "metadata": {},
   "source": [
    "## Applying Tesseract"
   ]
  },
  {
   "cell_type": "markdown",
   "metadata": {},
   "source": [
    "# Tesseract OCR\n",
    "\n",
    "Reference: https://blog.codeexpertslearning.com.br/lendo-imagens-uma-abordagem-à-ocr-com-google-tesseract-e-python-ee8e8009f2ab"
   ]
  },
  {
   "cell_type": "code",
   "execution_count": 2,
   "metadata": {},
   "outputs": [
    {
     "data": {
      "image/png": "[encoded data removed]",
      "text/plain": [
       "<IPython.core.display.Image object>"
      ]
     },
     "metadata": {},
     "output_type": "display_data"
    },
    {
     "name": "stdout",
     "output_type": "stream",
     "text": [
      "USO ADULTO\n",
      "\n",
      "Cloroquinaa’ 20mg Zxdia\n"
     ]
    }
   ],
   "source": [
    "import pytesseract as ocr\n",
    "from PIL import Image\n",
    "from IPython.display import Image as imging\n",
    "\n",
    "img = 'receita-1.png'\n",
    "pil_img = imging(filename=img)\n",
    "display(pil_img)\n",
    "\n",
    "phrase = ocr.image_to_string(Image.open(img))\n",
    "print(phrase)"
   ]
  },
  {
   "cell_type": "code",
   "execution_count": 3,
   "metadata": {},
   "outputs": [
    {
     "data": {
      "image/png": "[encoded data removed]",
      "text/plain": [
       "<IPython.core.display.Image object>"
      ]
     },
     "metadata": {},
     "output_type": "display_data"
    },
    {
     "name": "stdout",
     "output_type": "stream",
     "text": [
      "USO ADULTO\n",
      "\n",
      "Rivotril® 2mg 1x dia\n"
     ]
    }
   ],
   "source": [
    "img = 'receita-2.png'\n",
    "pil_img = imging(filename=img)\n",
    "display(pil_img)\n",
    "\n",
    "phrase = ocr.image_to_string(Image.open(img))\n",
    "print(phrase)"
   ]
  },
  {
   "cell_type": "code",
   "execution_count": 4,
   "metadata": {},
   "outputs": [
    {
     "data": {
      "image/png": "[encoded data removed]",
      "text/plain": [
       "<IPython.core.display.Image object>"
      ]
     },
     "metadata": {},
     "output_type": "display_data"
    },
    {
     "name": "stdout",
     "output_type": "stream",
     "text": [
      "USO ADULTO\n",
      "\n",
      "Resggidon® 1mg 1x dia\n"
     ]
    }
   ],
   "source": [
    "img = 'receita-3.png'\n",
    "pil_img = imging(filename=img)\n",
    "display(pil_img)\n",
    "\n",
    "phrase = ocr.image_to_string(Image.open(img))\n",
    "print(phrase)"
   ]
  },
  {
   "cell_type": "markdown",
   "metadata": {},
   "source": [
    "# Considerações: novas ideias\n",
    "- rede neural para identificação de receitas - viabilidade de tempo\n",
    "\n",
    "- input das informações dos pacientes(sexo, idade,\n",
    "    - retornar medicamentos que não são indicados(dosagem, ...) \n",
    "    \n",
    "`TODO`: definir mais as informações tanto de input quanto de output.\n",
    "\n",
    "## Objetivo prático\n",
    "- Trabalho publicável"
   ]
  },
  {
   "cell_type": "markdown",
   "metadata": {},
   "source": [
    "# Some Examples"
   ]
  },
  {
   "cell_type": "code",
   "execution_count": 1,
   "metadata": {},
   "outputs": [
    {
     "name": "stderr",
     "output_type": "stream",
     "text": [
      "* Owlready2 * Warning: optimized Cython parser module 'owlready2_optimized' is not available, defaulting to slower Python implementation\n"
     ]
    },
    {
     "data": {
      "text/plain": [
       "get_ontology(\"http://www.lesfleursdunormal.fr/static/_downloads/pizza_onto.owl#\")"
      ]
     },
     "execution_count": 1,
     "metadata": {},
     "output_type": "execute_result"
    }
   ],
   "source": [
    "from owlready2 import *\n",
    "onto_path.append(\"/Users/samuel/Documents/Mestrado/# Inteligência Artificial - Patricia/ontology/repository\")\n",
    "onto = get_ontology(\"http://www.lesfleursdunormal.fr/static/_downloads/pizza_onto.owl\")\n",
    "onto.load()"
   ]
  },
  {
   "cell_type": "code",
   "execution_count": null,
   "metadata": {},
   "outputs": [],
   "source": [
    "with onto:\n",
    "    class NonVegetarianPizza(onto.Pizza):\n",
    "      equivalent_to = [\n",
    "        onto.Pizza\n",
    "      & ( onto.has_topping.some(onto.MeatTopping)\n",
    "        | onto.has_topping.some(onto.FishTopping)\n",
    "        ) ]\n",
    "      def eat(self): print(\"Beurk! I'm vegetarian!\")"
   ]
  },
  {
   "cell_type": "code",
   "execution_count": null,
   "metadata": {},
   "outputs": [],
   "source": [
    "onto.Pizza\n",
    "\n",
    "test_pizza = onto.Pizza(\"test_pizza_owl_identifier\")\n",
    "test_pizza.has_topping = [ onto.CheeseTopping(),\n",
    "                           onto.TomatoTopping(),\n",
    "                           onto.MeatTopping  () ]"
   ]
  },
  {
   "cell_type": "code",
   "execution_count": null,
   "metadata": {},
   "outputs": [],
   "source": [
    "print(test_pizza.__class__)"
   ]
  },
  {
   "cell_type": "code",
   "execution_count": null,
   "metadata": {},
   "outputs": [],
   "source": [
    "onto.save()"
   ]
  },
  {
   "cell_type": "code",
   "execution_count": null,
   "metadata": {},
   "outputs": [],
   "source": [
    "sync_reasoner()"
   ]
  },
  {
   "cell_type": "code",
   "execution_count": null,
   "metadata": {},
   "outputs": [],
   "source": [
    "test_pizza.__class__"
   ]
  },
  {
   "cell_type": "code",
   "execution_count": null,
   "metadata": {},
   "outputs": [],
   "source": [
    "test_pizza.eat()"
   ]
  },
  {
   "cell_type": "markdown",
   "metadata": {},
   "source": [
    "# Example of new ontology"
   ]
  },
  {
   "cell_type": "code",
   "execution_count": null,
   "metadata": {},
   "outputs": [],
   "source": [
    "from datetime import timedelta\n",
    "from owlready2 import *\n",
    "\n",
    "# onto_path.append(\"/Users/samuel/Documents/Mestrado/# Inteligência Artificial - Patricia/ontology/repository\")\n",
    "# onto = get_ontology(\"rules.owl\")\n",
    "\n",
    "onto = get_ontology(\"http://test.org/onto.owl\")\n",
    "\n",
    "with onto:\n",
    "    class Error(Thing):\n",
    "        def who(self):\n",
    "            print(\"Error\")\n",
    "    class timerange_start_at(Error >> datetime.datetime, FunctionalProperty):\n",
    "        python_name = \"start\"\n",
    "    class timerange_end_at(Error >> datetime.datetime, FunctionalProperty):\n",
    "        python_name = \"end\"\n",
    "    class error_at(Error >> datetime.datetime, FunctionalProperty):\n",
    "        python_name = \"appeared\"\n",
    "    class is_after_start(Error >> bool, FunctionalProperty) : pass\n",
    "    class is_before_end(Error >> bool, FunctionalProperty): pass\n",
    "\n",
    "    class TimeRangeRelatedError(Error):\n",
    "        equivalent_to = [Error & is_after_start.value(True) & is_before_end.value(True)]\n",
    "        def who(self):\n",
    "            print(\"TimeRange\")\n",
    "\n",
    "    rule1 = Imp()\n",
    "    rule1.set_as_rule(\"\"\"Error(?d), timerange_start_at(?d, ?s), error_at(?d, ?b), greaterThan(?b, ?s) -> is_after_start(?d, true)\"\"\")\n",
    "    rule2 = Imp()\n",
    "    rule2.set_as_rule(\"\"\"Error(?d), timerange_end_at(?d, ?e), error_at(?d, ?b), lessThan(?b, ?e) -> is_before_end(?d, true)\"\"\")\n",
    "\n",
    "\n",
    "current = datetime.datetime.now()\n",
    "start = current - timedelta(days=1)\n",
    "end = current + timedelta(days=1)\n",
    "\n",
    "\n",
    "error = Error(start = start, end = end, appeared = current)\n",
    "\n",
    "close_world(Error)\n",
    "\n",
    "error.who()\n",
    "\n",
    "onto.save(file=\"/Users/samuel/Documents/Mestrado/# Inteligência Artificial - Patricia/ontology/repository/rules.owl\")\n",
    "\n",
    "# sync_reasoner_pellet(infer_property_values = True, infer_data_property_values = True)\n",
    "\n",
    "# onto.save(file=\"/Users/samuel/Documents/Mestrado/# Inteligência Artificial - Patricia/ontology/repository/rules2.owl\")\n",
    "\n",
    "# error.who()"
   ]
  },
  {
   "cell_type": "code",
   "execution_count": 3,
   "metadata": {},
   "outputs": [
    {
     "name": "stderr",
     "output_type": "stream",
     "text": [
      "* Owlready2 * Running Pellet...\n",
      "    java -Xmx2000M -cp /Users/samuel/anaconda3/envs/ontology/lib/python3.6/site-packages/owlready2/pellet/httpclient-4.2.3.jar:/Users/samuel/anaconda3/envs/ontology/lib/python3.6/site-packages/owlready2/pellet/aterm-java-1.6.jar:/Users/samuel/anaconda3/envs/ontology/lib/python3.6/site-packages/owlready2/pellet/xercesImpl-2.10.0.jar:/Users/samuel/anaconda3/envs/ontology/lib/python3.6/site-packages/owlready2/pellet/slf4j-api-1.6.4.jar:/Users/samuel/anaconda3/envs/ontology/lib/python3.6/site-packages/owlready2/pellet/jena-tdb-0.10.0.jar:/Users/samuel/anaconda3/envs/ontology/lib/python3.6/site-packages/owlready2/pellet/jena-iri-0.9.5.jar:/Users/samuel/anaconda3/envs/ontology/lib/python3.6/site-packages/owlready2/pellet/owlapi-distribution-3.4.3-bin.jar:/Users/samuel/anaconda3/envs/ontology/lib/python3.6/site-packages/owlready2/pellet/log4j-1.2.16.jar:/Users/samuel/anaconda3/envs/ontology/lib/python3.6/site-packages/owlready2/pellet/jcl-over-slf4j-1.6.4.jar:/Users/samuel/anaconda3/envs/ontology/lib/python3.6/site-packages/owlready2/pellet/slf4j-log4j12-1.6.4.jar:/Users/samuel/anaconda3/envs/ontology/lib/python3.6/site-packages/owlready2/pellet/antlr-runtime-3.2.jar:/Users/samuel/anaconda3/envs/ontology/lib/python3.6/site-packages/owlready2/pellet/pellet-2.3.1.jar:/Users/samuel/anaconda3/envs/ontology/lib/python3.6/site-packages/owlready2/pellet/jgrapht-jdk1.5.jar:/Users/samuel/anaconda3/envs/ontology/lib/python3.6/site-packages/owlready2/pellet/commons-codec-1.6.jar:/Users/samuel/anaconda3/envs/ontology/lib/python3.6/site-packages/owlready2/pellet/antlr-3.2.jar:/Users/samuel/anaconda3/envs/ontology/lib/python3.6/site-packages/owlready2/pellet/xml-apis-1.4.01.jar:/Users/samuel/anaconda3/envs/ontology/lib/python3.6/site-packages/owlready2/pellet/httpcore-4.2.2.jar:/Users/samuel/anaconda3/envs/ontology/lib/python3.6/site-packages/owlready2/pellet/jena-arq-2.10.0.jar:/Users/samuel/anaconda3/envs/ontology/lib/python3.6/site-packages/owlready2/pellet/jena-core-2.10.0.jar pellet.Pellet realize --loader Jena --input-format N-Triples --ignore-imports /var/folders/jn/0tqg6j317392dsllf80cqy6c0000gn/T/tmpxapx4b86\n"
     ]
    },
    {
     "name": "stdout",
     "output_type": "stream",
     "text": [
      "drug2 new Classes: onto.DrugAssociation\n",
      "I took a drug with a single active principle\n",
      "I took a drug with 2 active principles\n",
      "I took a placebo\n",
      "I took a controlled drug cloroquina\n"
     ]
    },
    {
     "name": "stderr",
     "output_type": "stream",
     "text": [
      "* Owlready2 * Pellet took 1.7151038646697998 seconds\n",
      "* Owlready * Reparenting onto.has_for_active_principle: {owl.ObjectProperty} => {owl.Thing}\n",
      "* Owlready * Reparenting onto.has_controlled_drug: {owl.ObjectProperty} => {owl.Thing}\n",
      "* Owlready * Reparenting onto.is_controlled_drug: {owl.DatatypeProperty, owl.FunctionalProperty} => {owl.Thing, owl.FunctionalProperty}\n",
      "* Owlready * Reparenting onto.has_name: {owl.DatatypeProperty, owl.FunctionalProperty} => {owl.Thing, owl.FunctionalProperty}\n",
      "* Owlready * Reparenting onto.drug2: {onto.Drug} => {onto.DrugAssociation}\n",
      "* Owlready * Reparenting onto.drug3: {onto.Drug} => {onto.Placebo}\n",
      "* Owlready * Reparenting onto.ControlledDrug: {onto.Drug} => {onto.Placebo}\n",
      "* Owlready * Reparenting onto.cloroquina: {onto.Drug} => {onto.ControlledDrug}\n",
      "* Owlready * Reparenting onto.drug1: {onto.Drug} => {onto.SingleActivePrincipleDrug}\n",
      "* Owlready * (NB: only changes on entities loaded in Python are shown, other changes are done but not listed)\n"
     ]
    }
   ],
   "source": []
  }
 ],
 "metadata": {
  "kernelspec": {
   "display_name": "Python 3",
   "language": "python",
   "name": "python3"
  },
  "language_info": {
   "codemirror_mode": {
    "name": "ipython",
    "version": 3
   },
   "file_extension": ".py",
   "mimetype": "text/x-python",
   "name": "python",
   "nbconvert_exporter": "python",
   "pygments_lexer": "ipython3",
   "version": "3.6.10"
  }
 },
 "nbformat": 4,
 "nbformat_minor": 2
}
